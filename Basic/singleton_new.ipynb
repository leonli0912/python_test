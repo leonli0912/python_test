{
 "cells": [
  {
   "cell_type": "code",
   "execution_count": 16,
   "metadata": {},
   "outputs": [
    {
     "ename": "SyntaxError",
     "evalue": "can't use starred expression here (<ipython-input-16-2fd445d77245>, line 13)",
     "output_type": "error",
     "traceback": [
      "\u001b[0;36m  File \u001b[0;32m\"<ipython-input-16-2fd445d77245>\"\u001b[0;36m, line \u001b[0;32m13\u001b[0m\n\u001b[0;31m    self._name=*args\u001b[0m\n\u001b[0m              ^\u001b[0m\n\u001b[0;31mSyntaxError\u001b[0m\u001b[0;31m:\u001b[0m can't use starred expression here\n"
     ]
    }
   ],
   "source": [
    "#singleton base class\n",
    "class Singleton(object):\n",
    "    _instance = None\n",
    "    def __new__(cls, *args, **kw):\n",
    "        if not cls._instance:\n",
    "            v1 = super(Singleton, cls)\n",
    "            print(v1.__new__)\n",
    "            cls._instance=v1.__new__(cls, *args, **kw)  \n",
    "        return cls._instance  \n",
    " \n",
    "class MyClass(Singleton):  \n",
    "    def __init__(self,*args):\n",
    "        self._name=*args\n",
    "    def get_name(self):\n",
    "        return self._name\n",
    "    def set_name(self,name):\n",
    "        self._name = name\n",
    "person = MyClass('dd')\n",
    "#person.set_name('cc')\n",
    "print(person.get_name())"
   ]
  },
  {
   "cell_type": "code",
   "execution_count": null,
   "metadata": {},
   "outputs": [],
   "source": []
  },
  {
   "cell_type": "code",
   "execution_count": null,
   "metadata": {},
   "outputs": [],
   "source": []
  }
 ],
 "metadata": {
  "kernelspec": {
   "display_name": "Python 3",
   "language": "python",
   "name": "python3"
  },
  "language_info": {
   "codemirror_mode": {
    "name": "ipython",
    "version": 3
   },
   "file_extension": ".py",
   "mimetype": "text/x-python",
   "name": "python",
   "nbconvert_exporter": "python",
   "pygments_lexer": "ipython3",
   "version": "3.6.4"
  }
 },
 "nbformat": 4,
 "nbformat_minor": 2
}
