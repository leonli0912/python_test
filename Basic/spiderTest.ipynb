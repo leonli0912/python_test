{
 "cells": [
  {
   "cell_type": "code",
   "execution_count": 2,
   "metadata": {},
   "outputs": [
    {
     "name": "stdout",
     "output_type": "stream",
     "text": [
      "Login to weibo.cn...\n",
      "SSOLoginState:1523265887\n",
      "SUB:_2A253z0EODeRhGedM7FoS9S3Ewj-IHXVVMG9GrDV6PUJbkdBeLWj6kW1NWDnpMz6fNDFNTE2ugSCe6DF4ndF36lGU\n",
      "SUHB:0wnEmpKVw0XCXW\n",
      "Server: nginx/1.6.1\n",
      "Date: Mon, 09 Apr 2018 09:24:47 GMT\n",
      "Content-Type: text/html\n",
      "Transfer-Encoding: chunked\n",
      "Connection: close\n",
      "Vary: Accept-Encoding\n",
      "Cache-Control: no-cache, must-revalidate\n",
      "Expires: Sat, 26 Jul 1997 05:00:00 GMT\n",
      "Pragma: no-cache\n",
      "Access-Control-Allow-Origin: https://passport.weibo.cn\n",
      "Access-Control-Allow-Credentials: true\n",
      "Set-Cookie: SUB=_2A253z0EODeRhGedM7FoS9S3Ewj-IHXVVMG9GrDV6PUJbkdBeLWj6kW1NWDnpMz6fNDFNTE2ugSCe6DF4ndF36lGU; Path=/; Domain=.weibo.cn; Expires=Tue, 09 Apr 2019 09:24:47 GMT; HttpOnly\n",
      "Set-Cookie: SUHB=0wnEmpKVw0XCXW; expires=Tuesday, 09-Apr-2019 09:24:47 GMT; path=/; domain=.weibo.cn\n",
      "Set-Cookie: SSOLoginState=1523265887; path=/; domain=weibo.cn\n",
      "Set-Cookie: ALF=1525857887; expires=Wednesday, 09-May-2018 09:24:47 GMT; path=/; domain=.sina.cn\n",
      "DPOOL_HEADER: dryad34\n",
      "SINA-LB: aGEuOTAuZzEucXhnLmxiLnNpbmFub2RlLmNvbQ==\n",
      "SINA-TS: ZDNjYTk0Y2UgMCAwIDAgMyA0MTMK\n",
      "Data: {\"retcode\":20000000,\"msg\":\"\",\"data\":{\"crossdomainlist\":{\"weibo.com\":\"https:\\/\\/passport.weibo.com\\/sso\\/crossdomain?entry=weibo&action=login&proj=1&ticket=ST-MTI3ODM1Mzg5Mw%3D%3D-1523265887-gz-EB0E3E300B55831431599C4FEA65AFF3-1\",\"sina.com.cn\":\"https:\\/\\/login.sina.com.cn\\/sso\\/crossdomain?entry=weibo&action=login&proj=1&ticket=ST-MTI3ODM1Mzg5Mw%3D%3D-1523265887-gz-C4E213DB80FAA908626DAC90F527F4FC-1\"},\"loginresulturl\":\"https:\\/\\/passport.weibo.cn\\/sso\\/crossdomain?entry=weibo&action=login&ticket=ST-MTI3ODM1Mzg5Mw%3D%3D-1523265887-gz-3779DA577E61F9F6833800A275A26AA9-1\",\"uid\":\"1278353893\"}}\n"
     ]
    }
   ],
   "source": [
    "from urllib import request,parse \n",
    "import http.cookiejar \n",
    "\n",
    "#cookie = http.cookiejar.CookieJar()\n",
    "###save cookie to file\n",
    "filename = 'mweibocookie.txt'\n",
    "cookie = http.cookiejar.MozillaCookieJar(filename)\n",
    "###\n",
    "cookieHandler = request.HTTPCookieProcessor(cookie)\n",
    "opener = request.build_opener(cookieHandler)#BUILD_OPNER 可以添加多个handler\n",
    "print('Login to weibo.cn...')\n",
    "#email = input('Email: ')\n",
    "#passwd = input('Password: ')\n",
    "login_data = parse.urlencode([\n",
    "    ('username', 'ly95487532'),\n",
    "    ('password', 'LEON880912'),\n",
    "    ('entry', 'weibo'),\n",
    "    ('client_id', ''),\n",
    "    ('savestate', '1'),\n",
    "    ('ec', ''),\n",
    "    ('pagerefer', 'https://passport.weibo.cn/signin/welcome?entry=mweibo&r=http%3A%2F%2Fm.weibo.cn%2F')\n",
    "])\n",
    "headers=[('Origin', 'https://passport.weibo.cn'),\n",
    "         ('Referer', 'https://passport.weibo.cn/signin/login?entry=mweibo&res=wel&wm=3349&r=http%3A%2F%2Fm.weibo.cn%2F'),\n",
    "         ('User-Agent','Mozilla/6.0')]\n",
    "opener.addheaders=headers\n",
    "response = opener.open('https://passport.weibo.cn/sso/login',login_data.encode('utf-8'))\n",
    "#print(response.read().decode(encoding='UTF-8'))\n",
    "for item in cookie:\n",
    "    print('%s:%s'%(item.name,item.value))\n",
    "\n",
    "for k,v in response.getheaders():\n",
    "       print('%s: %s' % (k, v))\n",
    "print('Data:', response.read().decode('utf-8'))\n",
    "\n",
    "cookie.save(ignore_discard = True,ignore_expires = True)\n"
   ]
  },
  {
   "cell_type": "code",
   "execution_count": 3,
   "metadata": {},
   "outputs": [
    {
     "name": "stdout",
     "output_type": "stream",
     "text": [
      "<!doctype html><html lang=\"zh\"><head><meta charset=\"utf-8\"><link rel=\"dns-prefetch\" href=\"https://h5.sinaimg.cn\"><link rel=\"dns-prefetch\" href=\"http://u1.sinaimg.cn\"><link rel=\"dns-prefetch\" href=\"http://ww1.sinaimg.cn\"><link rel=\"dns-prefetch\" href=\"http://ww2.sinaimg.cn\"><link rel=\"dns-prefetch\" href=\"http://ww3.sinaimg.cn\"><link rel=\"dns-prefetch\" href=\"http://ww4.sinaimg.cn\"><meta name=\"apple-mobile-web-app-capable\" content=\"yes\"><meta name=\"apple-mobile-web-app-status-bar-style\" content=\"black\"/><link rel=\"apple-touch-icon\" href=\"http://u1.sinaimg.cn/upload/h5/img/apple-touch-icon.png\"><link rel=\"icon\" sizes=\"any\" mask href=\"//h5.sinaimg.cn/upload/2015/05/15/28/WeiboLogoCh.svg\" color=\"black\"><title>微博 - 随时随地发现新鲜事</title><meta id=\"viewport\" name=\"viewport\" content=\"width=device-width,initial-scale=1.0,minimum-scale=1.0,maximum-scale=1.0\"><meta name=\"format-detection\" content=\"telephone=no\"><script>var _loadStart = new Date().getTime();</script><link href=\"//h5.sinaimg.cn/weibocn/v6/css/lib/base-d1c7f99e51e81f2aec863e6539d97dbb.css\" type=\"text/css\" rel=\"stylesheet\"><link href=\"//h5.sinaimg.cn/weibocn/v6/css/card/cards-9babdfd7da6f88b20fc47e0d79a2977d.css\" type=\"text/css\" rel=\"stylesheet\"><link href=\"//h5.sinaimg.cn/weibocn/v6/css/mod/mods.all-3ced9f518a7d802418d57152b529c1fa.css\" type=\"text/css\" rel=\"stylesheet\"></head><body><div id=\"box\" class=\"container stage-home\"></div><script>window.$config={'stage':'home'};window.$render_data = {'stage': {'home': [{\"mod_type\":\"mod\\/home\",\"title\":{\"type\":\"drop\",\"txt\":\"\\u8bd7\\u4eba\\u83b1\\u6602_leon\"},\"url\":\"\\/index\\/feed?format=cards\",\"userName\":\"\\u8bd7\\u4eba\\u83b1\\u6602_leon\",\"btn\":{\"right\":[{\"iconName\":\"navbar_setting\",\"title\":\"\\u8bbe\\u7f6e\",\"type\":\"setting\"},{\"iconName\":\"navbar_msg\",\"title\":\"\\u6d88\\u606f\",\"type\":\"msg\"},{\"iconName\":\"navbar_refresh\",\"title\":\"\\u5237\\u65b0\",\"type\":\"refresh\"},{\"iconName\":\"navbar_search\",\"title\":\"\\u641c\\u7d22\",\"type\":\"search\"},{\"iconName\":\"navbar_compose\",\"title\":\"\\u5199\\u5fae\\u535a\",\"type\":\"compose\",\"url\":\"\\/compose\"}]}}]},'common':{\"cacheHit\":0,\"isLogin\":true,\"deviceType\":\"UNKNOWN\",\"browserType\":\"UNKNOWN\",\"online\":true,\"wm\":null,\"st\":\"db246a\",\"isInClient\":0,\"isWechat\":0,\"hideHeaderBanner\":0,\"request_key\":\"60511225ab60149264a37b189a166610\",\"showAppTips\":0,\"title\":\"\\u5fae\\u535a - \\u968f\\u65f6\\u968f\\u5730\\u53d1\\u73b0\\u65b0\\u9c9c\\u4e8b\",\"addPerformanceLog\":1,\"params\":{\"_T_WM\":\"22adf7ae8605e11b086e0d29cd54ed26\",\"uicode\":\"20000174\"},\"uid\":\"1278353893\",\"ctrl\":\"index\\/action\",\"stage\":\"home\"}};</script><script src=\"//h5.sinaimg.cn/weibocn/v6/js/brick-5f085ce20130de3a5490215fa3c74aaf.js\"></script><script src=\"//h5.sinaimg.cn/weibocn/v6/js/boot-d8963ec54c15c6eb62a26b3d1b06d7dd.js\"></script><script>require.config({baseUrl: '//h5.sinaimg.cn/weibocn/v6/js/',paths: {'jquery': '//h5.sinaimg.cn/weibocn/v6/js/lib/jquery2-135a0dd93cc9535739d44989ba34d283.js','card/cards': '//h5.sinaimg.cn/weibocn/v6/js/card/cards-795f551f2a8f55bdc36ea98aa2b521a0.js','act/acts': '//h5.sinaimg.cn/weibocn/v6/js/act/acts-ac8be636c9e006ccd5f914180d0dad69.js','tpl/mod/mods.all': '//h5.sinaimg.cn/weibocn/v6/js/tpl/mod/mods.all-f9da7b5a1f43d3d595759614789a5cd5.js','mod/mods.all': '//h5.sinaimg.cn/weibocn/v6/js/mod/mods.all-49317dc22f2329743d5a5991926a8918.js','ctrl/home': '//h5.sinaimg.cn/weibocn/v6/js/ctrl/home-79ed6603fa326471cd7786d6b8e48d5b.js','core/lib/iscroll':'//h5.sinaimg.cn/weibocn/v6/js/core/lib/iscroll-a48a578c109a9bcea039fa76d04d1cf7.js'}});</script><script>require(['boot','jquery']);</script><style>@-webkit-keyframes fadeInUp {0% {opacity: 0;-webkit-transform: translateY(1.75rem);transform: translateY(1.75rem)}100% {opacity: 1;-webkit-transform: translateY(0);transform: translateY(0)}}.appTips {position: fixed;left: 0;right: 0;bottom: 1.75rem;text-align: center;}.appTips a {display: inline-block;width: 7.75rem;line-height: 2.0625rem;text-align: center;border: #FD993C solid 1px;font-size: 1rem;vertical-align: middle;border-radius: 7.5rem;-webkit-box-shadow: 0 4px 9px 0 rgba(165, 133, 104, 0.38);box-shadow: 0 4px 9px 0 rgba(165, 133, 104, 0.38);background: #FD993C;background-clip: padding-box;color: #FFF;-webkit-animation: fadeInUp 0.5s ease-in-out both;}</style><script>require(['jquery'], function ($) {var scheme = 'sinaweibo://gotohome?luicode=10000360';var tpl = $('<div class=\"appTips\"><a href=\"javascript:;\" ontouchstart=\"\">微博内打开</a></div>');var url = 'https://m.weibo.cn/feature/download/index';var openTime = +new Date();$('body').append(tpl);tpl.on('click', 'a', function () {var ua = navigator.userAgent.toLowerCase();if (ua.indexOf('android') !== -1) {var _iframe = document.createElement('iframe');_iframe.src = scheme;_iframe.style.display = 'none';document.body.appendChild(_iframe);window.setTimeout(function(){document.body.removeChild(_iframe);if((+new Date()) - openTime > 2500) {window.location.href = url;}}, 2000);} else {location.href = 'https://weibo.cn/appurl?scheme=' + encodeURIComponent(scheme);}})})</script><script>window.__wb_performance_data = {v: 'v4',m: 'mainsite'}</script><script src=\"https://h5.sinaimg.cn/upload/1005/16/2017/11/30/wbp.js\" id=\"__wb_performance_log\" data-rate=\"0.1\"></script></body></html>\n"
     ]
    }
   ],
   "source": [
    "import http.cookiejar, urllib.request\n",
    "cj = http.cookiejar.MozillaCookieJar()\n",
    "cj.load('mweibocookie.txt')\n",
    "opener = urllib.request.build_opener(urllib.request.HTTPCookieProcessor(cj))\n",
    "req = urllib.request.Request('http://m.weibo.cn')\n",
    "req.add_header('User-Agent','Mozilla/6.0')\n",
    "r = opener.open(req)\n",
    "print(r.read().decode('UTF-8'))"
   ]
  },
  {
   "cell_type": "code",
   "execution_count": null,
   "metadata": {},
   "outputs": [],
   "source": [
    "from urllib import request,parse \n",
    "import http.cookiejar \n",
    "#pc weibo\n",
    "#\n",
    "preloginURL='http://login.sina.com.cn/sso/prelogin.php?entry=sso&callback=sinaSSOController.preloginCallBack&su=%s&rsakt=mod&client=ssologin.js(v1.4.19)'\n",
    "loginURL='https://login.sina.com.cn/sso/login.php'\n",
    "###save cookie to file\n",
    "filename = 'weibocookie.txt'\n",
    "cookie = http.cookiejar.MozillaCookieJar(filename)\n",
    "###\n",
    "cookieHandler = urllib.request.HTTPCookieProcessor(cookie)\n",
    "opener = urllib.request.build_opener(cookieHandler)#BUILD_OPNER 可以添加多个handler\n",
    "print('Login to weibo.cn...')\n",
    "login_data = parse.urlencode([\n",
    "    ('su','bHk5NTQ4NzUzMg=='),# 'ly95487532'),\n",
    "    ('sp', ''),\n",
    "    ('pwencode','rsa2')\n",
    "    ('entry', 'weibo'),\n",
    "    ('client_id', ''),\n",
    "    ('savestate', '7'),\n",
    "    ('rsakv',''),\n",
    "    ('nonce',''),\n",
    "    ('servertime',''),\n",
    "    ('ec', ''),\n",
    "    ('pagerefer', 'ttps://passport.weibo.com/visitor/visitor?entry=miniblog&a=enter&url=https%3A%2F%2Fweibo.com%2Fu%2F1278353893%2Fhome&domain=.weibo.com&ua=php-sso_sdk_client-0.6.23&_rand=1523201619.6983')\n",
    "])"
   ]
  },
  {
   "cell_type": "code",
   "execution_count": null,
   "metadata": {},
   "outputs": [],
   "source": [
    "from urllib import request,parse \n",
    "import http.cookiejar \n",
    "\n",
    "cookie_filename = 'testcookie.txt'\n",
    "reusedcookie = http.cookiejar.MozillaCookieJar(cookie_filename)\n",
    "reusedcookie.load(ignore_discard=True,ignore_expires=True)\n",
    "for ck in reusedcookie:\n",
    "    print('%s:%s'% (ck.name,ck.value))\n",
    "cookieHandler=urllib.request.HTTPCookieProcessor(reusedcookie)\n",
    "opener = urllib.request.build_opener(cookieHandler)\n",
    "target_URL = https://passport.weibo.cn/sso/login\n",
    "#target_URL = 'https://weibo.com/aj/f/followed?ajwvr=6&__rnd=1523196358871'\n",
    "headers=[('Origin', 'https://passport.weibo.cn'),\n",
    "         ('Referer', 'https://passport.weibo.cn/signin/login?entry=mweibo&res=wel&wm=3349&r=http%3A%2F%2Fm.weibo.cn%2F'),\n",
    "         ('User-Agent','Mozilla/6.0')]\n",
    "opener.addheaders=headers\n",
    "data=[('uid','3237705130'),\n",
    "      ('f','1'),\n",
    "      ('nogroup','1'),\n",
    "     ('fnick','北京大学'),\n",
    "     ('template','7'),\n",
    "     ('isrecommend','1'),\n",
    "     ('_t','0')]\n",
    "request= urllib.request.Request(target_URL,parse.urlencode(data).encode())\n",
    "try:\n",
    "    response = opener.open(request)\n",
    "except urllib.error.URLError as e:\n",
    "    print(e.reseaon)\n",
    "print(response.read().decode('gb2312'))"
   ]
  },
  {
   "cell_type": "code",
   "execution_count": null,
   "metadata": {},
   "outputs": [],
   "source": []
  },
  {
   "cell_type": "code",
   "execution_count": null,
   "metadata": {},
   "outputs": [],
   "source": []
  }
 ],
 "metadata": {
  "kernelspec": {
   "display_name": "Python 3",
   "language": "python",
   "name": "python3"
  },
  "language_info": {
   "codemirror_mode": {
    "name": "ipython",
    "version": 3
   },
   "file_extension": ".py",
   "mimetype": "text/x-python",
   "name": "python",
   "nbconvert_exporter": "python",
   "pygments_lexer": "ipython3",
   "version": "3.6.2"
  }
 },
 "nbformat": 4,
 "nbformat_minor": 2
}
