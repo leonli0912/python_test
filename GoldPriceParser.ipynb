{
 "cells": [
  {
   "cell_type": "markdown",
   "metadata": {},
   "source": [
    "# html parser"
   ]
  },
  {
   "cell_type": "code",
   "execution_count": 1,
   "metadata": {},
   "outputs": [],
   "source": [
    "from html.parser import HTMLParser  \n",
    "import urllib.request"
   ]
  },
  {
   "cell_type": "code",
   "execution_count": 40,
   "metadata": {},
   "outputs": [
    {
     "name": "stdout",
     "output_type": "stream",
     "text": [
      "new myhtmlparser...\n",
      "[('', ''), ('03 Apr 2018', '1337.28'), ('02 Apr 2018', '1341.09'), ('30 Mar 2018', '1325.03'), ('29 Mar 2018', '1325.24'), ('28 Mar 2018', '1324.87'), ('27 Mar 2018', '1344.81'), ('26 Mar 2018', '1353.15'), ('23 Mar 2018', '1347.03'), ('22 Mar 2018', '1328.85'), ('21 Mar 2018', '1332.16'), ('20 Mar 2018', '1311.13'), ('19 Mar 2018', '1316.67'), ('16 Mar 2018', '1313.92'), ('15 Mar 2018', '1316.11'), ('14 Mar 2018', '1324.6'), ('13 Mar 2018', '1326.18'), ('12 Mar 2018', '1322.82'), ('09 Mar 2018', '1323.14'), ('08 Mar 2018', '1321.83'), ('07 Mar 2018', '1325.34'), ('06 Mar 2018', '1334.41'), ('05 Mar 2018', '1319.9'), ('02 Mar 2018', '1322.57'), ('01 Mar 2018', '1316.75'), ('28 Feb 2018', '1317.99'), ('27 Feb 2018', '1318.08'), ('26 Feb 2018', '1333.18'), ('23 Feb 2018', '1328.71'), ('22 Feb 2018', '1331.86'), ('21 Feb 2018', '1324.44'), ('20 Feb 2018', '1329.01'), ('19 Feb 2018', '1345.8'), ('16 Feb 2018', '1346.98'), ('15 Feb 2018', '1353.28'), ('14 Feb 2018', '1350.44'), ('13 Feb 2018', '1329.33'), ('12 Feb 2018', '1322.49'), ('09 Feb 2018', '1315.97'), ('08 Feb 2018', '1318.49'), ('07 Feb 2018', '1318.25'), ('06 Feb 2018', '1323.98'), ('05 Feb 2018', '1339.31'), ('02 Feb 2018', '1332.73'), ('01 Feb 2018', '1348.39'), ('31 Jan 2018', '1344.76'), ('30 Jan 2018', '1338.39'), ('29 Jan 2018', '1340.1'), ('26 Jan 2018', '1349.47'), ('25 Jan 2018', '1347.83'), ('24 Jan 2018', '1358.29'), ('23 Jan 2018', '1341.09'), ('22 Jan 2018', '1333.74'), ('19 Jan 2018', '1331.67'), ('18 Jan 2018', '1326.84'), ('17 Jan 2018', '1326.77'), ('16 Jan 2018', '1338.28'), ('15 Jan 2018', '1339.3'), ('12 Jan 2018', '1337.73'), ('11 Jan 2018', '1322.21'), ('10 Jan 2018', '1316.73'), ('09 Jan 2018', '1312.57'), ('08 Jan 2018', '1320.3'), ('05 Jan 2018', '1319.25'), ('04 Jan 2018', '1322.37'), ('03 Jan 2018', '1312.92'), ('02 Jan 2018', '1317.31')]\n"
     ]
    }
   ],
   "source": [
    "class MyHTMLParser(HTMLParser):  \n",
    "#    <div id=\"quotes\">\n",
    "#      <table border=\"1\" class=\"tableFormat\" rules=\"all\" cellspacing=\"1\">\n",
    "#        <tbody>\n",
    "#            <tr>\n",
    "#              <td colspan=\"2\" align=\"left\" nowrap=\"nowrap\" class=\"headerText\">&nbsp;</td>\n",
    "#            </tr>\n",
    "#            <tr onmouseout=\"this.style.backgroundColor='#ffffff';\" onmouseover=\"this.style.backgroundColor='#CCC';\" style=\"background-color: rgb(255, 255, 255);\">\n",
    "#              <td width=\"90\" align=\"left\" class=\"text\">03 Apr 2018</td>\n",
    "#              <td width=\"60\" align=\"left\" class=\"text\">1337.26</td>\n",
    "#            </tr>\n",
    "    inTable = False\n",
    "    tag = \"\"\n",
    "    tdType = \"\"\n",
    "    date = \"\"\n",
    "    price = \"\"\n",
    "    item = []\n",
    "    tagEnd = False\n",
    "    \n",
    "    def _init_(self):\n",
    "        print('init...')\n",
    "        HTMLParser._init_(self)\n",
    "        \n",
    "    def handle_starttag(self,tag,attrs):\n",
    "        #<td width=\"90\" align=\"left\" class=\"text\">\n",
    "        \n",
    "        if tag == \"div\":\n",
    "            for(var,value) in attrs:\n",
    "                if var == \"id\" and value == \"quotes\":\n",
    "                    self.inTable = True\n",
    "\n",
    "        if self.inTable == True:\n",
    "            self.tag = tag\n",
    "            if tag == \"td\":\n",
    "                self.tagEnd = False\n",
    "                for (var,value) in attrs:\n",
    "                    if var == \"width\" and value == \"90\":\n",
    "                        self.tdType = \"date\"\n",
    "                    elif var == \"width\" and value == \"60\":\n",
    "                        self.tdType = \"price\"\n",
    "            #print(\"start tag:\", tag)\n",
    "     \n",
    "\n",
    "    def handle_endtag(self,tag):\n",
    "        if self.inTable == True :\n",
    "            #print(\"end tag:\", tag)\n",
    "            self.tagEnd = True\n",
    "            if tag == \"tr\":\n",
    "                #print(\"date:\",self.date)\n",
    "                #print(\"price:\",self.price)\n",
    "                self.item.append((self.date,self.price))\n",
    "                \n",
    "                \n",
    "        if tag == \"div\" and self.inTable == True:\n",
    "            self.inTable = False\n",
    "            \n",
    "        \n",
    "    def handle_data(self, data):\n",
    "        if self.inTable == True:\n",
    "            if self.tag == \"td\" and self.tdType == \"date\" and self.tagEnd == False:\n",
    "                self.date = data\n",
    "                \n",
    "            elif self.tag == \"td\" and self.tdType == \"price\" and self.tagEnd == False:\n",
    "                self.price = data\n",
    "                \n",
    "      \n",
    "        \n",
    "\n",
    "#if _name_ == \"_main_\":\n",
    "response = urllib.request.urlopen(\"http://www.usagold.com/reference/prices/goldhistory.php\")\n",
    "    #html_code = \"\"\n",
    "html_response = response.read()\n",
    "encoding = response.headers.get_content_charset('utf-8')\n",
    "webdata=html_response.decode(encoding)\n",
    "print('new myhtmlparser...')\n",
    "hp = MyHTMLParser()\n",
    "hp.feed(webdata)\n",
    "print(hp.item)\n",
    "#hp.close()\n"
   ]
  },
  {
   "cell_type": "code",
   "execution_count": null,
   "metadata": {},
   "outputs": [],
   "source": []
  }
 ],
 "metadata": {
  "kernelspec": {
   "display_name": "Python 3",
   "language": "python",
   "name": "python3"
  },
  "language_info": {
   "codemirror_mode": {
    "name": "ipython",
    "version": 3
   },
   "file_extension": ".py",
   "mimetype": "text/x-python",
   "name": "python",
   "nbconvert_exporter": "python",
   "pygments_lexer": "ipython3",
   "version": "3.6.2"
  }
 },
 "nbformat": 4,
 "nbformat_minor": 2
}
