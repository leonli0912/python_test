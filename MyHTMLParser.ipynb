{
 "cells": [
  {
   "cell_type": "markdown",
   "metadata": {},
   "source": [
    "# html parser"
   ]
  },
  {
   "cell_type": "code",
   "execution_count": 8,
   "metadata": {},
   "outputs": [],
   "source": [
    "from html.parser import HTMLParser  \n",
    "import urllib.request"
   ]
  },
  {
   "cell_type": "code",
   "execution_count": null,
   "metadata": {},
   "outputs": [],
   "source": [
    "class MyHTMLParser(HTMLParser):  \n",
    "    links = []\n",
    "    def _init_(self):\n",
    "        print('init...')\n",
    "        HTMLParser._init_(self)\n",
    "        links = []\n",
    "    def handle_starttag(self,tag,attrs):\n",
    "        if tag == \"div\":\n",
    "            if len(attrs) == 0:\n",
    "                print('this is attrs a')\n",
    "                pass\n",
    "            else:\n",
    "                for(variable,value) in attrs:\n",
    "                    if variable == \"id\":\n",
    "                        if value == \"quotes\":\n",
    "                            print('find quotes table...')\n",
    "                        #self.links.append(value)\n",
    "\n",
    "#if _name_ == \"_main_\":\n",
    "response = urllib.request.urlopen(\"http://www.usagold.com/reference/prices/goldhistory.php\")\n",
    "    #html_code = \"\"\n",
    "html_response = response.read()\n",
    "encoding = response.headers.get_content_charset('utf-8')\n",
    "webdata=html_response.decode(encoding)\n",
    "print('new myhtmlparser...')\n",
    "hp = MyHTMLParser()\n",
    "hp.feed(webdata)\n",
    "hp.close()\n",
    "print(hp.links)\n",
    "#print(webdata)"
   ]
  },
  {
   "cell_type": "code",
   "execution_count": null,
   "metadata": {},
   "outputs": [],
   "source": []
  }
 ],
 "metadata": {
  "kernelspec": {
   "display_name": "Python 3",
   "language": "python",
   "name": "python3"
  },
  "language_info": {
   "codemirror_mode": {
    "name": "ipython",
    "version": 3
   },
   "file_extension": ".py",
   "mimetype": "text/x-python",
   "name": "python",
   "nbconvert_exporter": "python",
   "pygments_lexer": "ipython3",
   "version": "3.6.2"
  }
 },
 "nbformat": 4,
 "nbformat_minor": 2
}
