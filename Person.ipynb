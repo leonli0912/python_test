{
 "cells": [
  {
   "cell_type": "code",
   "execution_count": 17,
   "metadata": {},
   "outputs": [
    {
     "name": "stdout",
     "output_type": "stream",
     "text": [
      "init called...\n",
      "Hello, my name is Swaroop\n"
     ]
    }
   ],
   "source": [
    "class Person():\n",
    "    def __init__(self, name):\n",
    "        print('init called...')\n",
    "        self.name = name\n",
    "    def sayHi(self):\n",
    "        print ('Hello, my name is', self.name)\n",
    "\n",
    "p = Person('Swaroop')\n",
    "p.sayHi()"
   ]
  },
  {
   "cell_type": "code",
   "execution_count": null,
   "metadata": {},
   "outputs": [],
   "source": []
  }
 ],
 "metadata": {
  "kernelspec": {
   "display_name": "Python 3",
   "language": "python",
   "name": "python3"
  },
  "language_info": {
   "codemirror_mode": {
    "name": "ipython",
    "version": 3
   },
   "file_extension": ".py",
   "mimetype": "text/x-python",
   "name": "python",
   "nbconvert_exporter": "python",
   "pygments_lexer": "ipython3",
   "version": "3.6.2"
  }
 },
 "nbformat": 4,
 "nbformat_minor": 2
}
