{
 "cells": [
  {
   "cell_type": "code",
   "execution_count": null,
   "metadata": {},
   "outputs": [],
   "source": [
    "charles request:\n",
    "1.https://aweme.snssdk.com\n",
    "2.https://api.weibo.cn\n",
    "3.https://log.snssdk.com\n",
    "4.http://comet.blog.sina.com.cn/api?maintype=notice&uid=1278353893&blogid=957bd29f0102xalk&varname=requestId_92473377\n",
    "header:{\n",
    "maintype\tnotice\n",
    "uid\t1278353893\n",
    "blogid\t957bd29f0102xalk\n",
    "varname\trequestId_48569330}\n",
    "response:{\n",
    "    var requestId_48569330={\"code\":\"A00006\",\"data\":{\"1278353893\":{\"feed\":0,\"invite\":0,\"photocomment\":0,\"like\":0,\"message\":0,\"blogcomment\":0,\"point\":0,\"gbook\":0,\"notice_quote\":0,\"notice_favourite\":0,\"notice\":0,\"blogrecomment\":0,\"unreadnotices\":0},\"957bd29f0102xalk\":0}}\n",
    "\n",
    "}\n",
    "5.https://is.snssdk.com/passport/auth/login/?iid=30324326232&device_id=50875376868&os_api=18&app_name=aweme&channel=App%20Store&idfa=B618E52D-FB7A-4E9D-BCB2-6B7C67A9F8EF&device_platform=iphone&build_number=17805&vid=82F83279-40FF-422C-A828-FBF2C11AF511&openudid=350651a888c2d0e1d3c28fba42b60da4de49a6fc&device_type=iPhone10,2&app_version=1.7.8&version_code=1.7.8&os_version=11.2.6&screen_width=1242&aid=1128&ac=WIFI&mas=00aaae65813c069367aadc42b79bc6b1e9b696106397f82a20aeb1&as=a1f5e24dfcc3daf3f26006&ts=1523721020\n",
    "    {{\"data\":{\"user_id\":96855186669,\"name\":\"诗人莱昂_leon431\",\"screen_name\":\"诗人莱昂_leon431\",\"avatar_url\":\"http://p1.pstatp.com/medium/78bd0013e8fda92d14e2\",\"user_verified\":false,\"verified_content\":\"\",\"verified_agency\":\"\",\"is_blocked\":0,\"is_blocking\":0,\"bg_img_url\":\"\",\"gender\":1,\"media_id\":0,\"user_auth_info\":\"\",\"industry\":\"\",\"area\":\"\",\"can_be_found_by_phone\":1,\"mobile\":\"\",\"birthday\":\"\",\"description\":\"文明其精神野蛮其体魄\",\"new_user\":0,\"session_key\":\"b743d1a1299b440cdbdb1d6cbd2b9b9b\",\"is_recommend_allowed\":1,\"recommend_hint_message\":\"同时推荐给我的粉丝\",\"connects\":[{\"platform\":\"sina_weibo\",\"profile_image_url\":\"http://tva1.sinaimg.cn/crop.0.0.180.180.50/4c3221e5jw1e8qgp5bmzyj2050050aa8.jpg\",\"expired_time\":1526324399,\"expires_in\":0,\"platform_screen_name\":\"诗人莱昂_leon\",\"user_id\":96855186669,\"platform_uid\":\"1278353893\"}],\"followings_count\":0,\"followers_count\":0,\"visit_count_recent\":0},\"message\":\"success\",\"new_platform\":0,\"new_user\":0,\"session_key\":\"b743d1a1299b440cdbdb1d6cbd2b9b9b\",\"should_bind_mobile\":0}}\n",
    "6.https://api.weibo.com/oauth2/sso_authorize?packagename=com.ss.iphone.ugc.Aweme&response_type=code&display=mobile&scope=all&disable_sinaurl=1&aid=01AhPj0B7-gfCSSl1x5NPf5DNRQ7FkkKPoOBJJBD6-g98yjJE.&key_hash=22191242ac93f71da72492a63395bf40&redirect_uri=http%3A%2F%2Fapi.snssdk.com%2Fauth%2Flogin_success%2F&access_token=2.00LPqV5Bv1Vc_G17b9b41ab302q9BC&client_id=1462309810    \n",
    "    {\"access_token\":\"2.00LPqV5BGahxaB550f8ef972bKKDTC\",\"remind_in\":\"2610005\",\"expires_in\":\"2610005\",\"refresh_token\":\"2.00LPqV5BGahxaBd2597c2dc2B2LuBE\",\"uid\":\"1278353893\",\"isRealName\":\"true\",\"app\":{\"name\":\"æé³ç­è§é¢\",\"logo\":\"http://ww2.sinaimg.cn/square/006q8oH1jw1fap035t077j30280280sk.jpg\"}}\n",
    "    \n",
    "    \n",
    "1.post https://api.weibo.com/2/proxy/sdk/statistic.json?source=1462309810\n",
    "    form:{\"appkey\":\"1462309810\",\"packagename\":\"com.ss.iphone.ugc.Aweme\",\"channel\":\"AppStore\",\"time\":1523888538,\"platform\":\"iOS\",\"content\":[\"{\\\"type\\\":0,\\\"time\\\":1523888484}\",\"{\\\"type\\\":1,\\\"time\\\":1523888497}\"],\"aid\":\"01AhPj0B7-gfCSSl1x5NPf5DNRQ7FkkKPoOBJJBD6-g98yjJE.\",\"length\":2,\"key_hash\":\"22191242ac93f71da72492a63395bf40\",\"version\":\"1.7.8\",\"sign\":\"58a1be9\"}\n",
    " 2.get https://open.weibo.cn/oauth2/authorize?packagename=com.ss.iphone.ugc.Aweme&response_type=code&scope=all&aid=01AhPj0B7-gfCSSl1x5NPf5DNRQ7FkkKPoOBJJBD6-g98yjJE.&key_hash=22191242ac93f71da72492a63395bf40&redirect_uri=http%3A%2F%2Fapi.snssdk.com%2Fauth%2Flogin_success%2F&version=003203000&client_id=1462309810       \n",
    " 3.https://passport.weibo.cn/signin/login?client_id=1462309810&redirect_uri=http://api.snssdk.com/auth/login_success/&display=sdk&action=login&offcialMobile=true&rf=1&version=003203000&sso_type=1&scope=all\n",
    "4.post https://passport.weibo.cn/sso/login \n",
    "    form {username:ly95487532\n",
    "          password:LEON880912\n",
    "          client_id:1462309810}\n",
    "    reponse: {{\n",
    "\t\"retcode\": 20000000,\n",
    "\t\"msg\": \"\",\n",
    "\t\"data\": {\n",
    "\t\t\"ticket\": \"ST-MTI3ODM1Mzg5Mw==-1523889242-yf-3FEF3EB71AD4CF762A2150F135BDE557-1\",\n",
    "\t\t\"toauth\": 1,\n",
    "\t\t\"uid\": \"1278353893\"\n",
    "\t}\n",
    "}}\n",
    "5. post https://open.weibo.cn/oauth2/authorize\n",
    "    form {client_id\t1462309810\n",
    "redirect_uri\thttp://api.snssdk.com/auth/login_success/\n",
    "          action\tlogin\n",
    "         ticket\tST-MTI3ODM1Mzg5Mw==-1523889242-yf-3FEF3EB71AD4CF762A2150F135BDE557-1}"
   ]
  },
  {
   "cell_type": "code",
   "execution_count": 5,
   "metadata": {},
   "outputs": [
    {
     "name": "stdout",
     "output_type": "stream",
     "text": [
      "Login to weibo.cn...\n",
      "login:83d2d473399b13dbae7a9ef39611fbd9\n",
      "Server: nginx/1.6.1\n",
      "Date: Mon, 16 Apr 2018 15:28:17 GMT\n",
      "Content-Type: text/html\n",
      "Transfer-Encoding: chunked\n",
      "Connection: close\n",
      "Vary: Accept-Encoding\n",
      "Cache-Control: no-cache, must-revalidate\n",
      "Expires: Sat, 26 Jul 1997 05:00:00 GMT\n",
      "Pragma: no-cache\n",
      "Access-Control-Allow-Origin: https://passport.weibo.cn\n",
      "Access-Control-Allow-Credentials: true\n",
      "DPOOL_HEADER: luna41\n",
      "Set-Cookie: login=83d2d473399b13dbae7a9ef39611fbd9; Path=/\n",
      "Data: {\"retcode\":20000000,\"msg\":\"\",\"data\":{\"ticket\":\"ST-MTI3ODM1Mzg5Mw==-1523892497-tc-AAF4A90CC8460A0E14EBCE1315BAF8E8-1\",\"toauth\":1,\"uid\":\"1278353893\"}}\n"
     ]
    }
   ],
   "source": [
    "from urllib import request,parse \n",
    "import http.cookiejar \n",
    "\n",
    "#cookie = http.cookiejar.CookieJar()\n",
    "###save cookie to file\n",
    "filename = 'mdouyin.txt'\n",
    "cookie = http.cookiejar.MozillaCookieJar(filename)\n",
    "###\n",
    "cookieHandler = request.HTTPCookieProcessor(cookie)\n",
    "opener = request.build_opener(cookieHandler)#BUILD_OPNER 可以添加多个handler\n",
    "print('Login to weibo.cn...')\n",
    "#email = input('Email: ')\n",
    "#passwd = input('Password: ')\n",
    "login_data = parse.urlencode([\n",
    "    ('username', 'ly95487532'),\n",
    "    ('password', 'LEON880912'),\n",
    "    ('entry', 'weibo'),\n",
    "    ('client_id', '1462309810'),\n",
    "    ('savestate', '1'),\n",
    "    ('ec', ''),\n",
    "    ('pagerefer', 'https://passport.weibo.cn/signin/welcome?entry=mweibo&r=http%3A%2F%2Fm.weibo.cn%2F')\n",
    "])\n",
    "headers=[('Origin', 'https://passport.weibo.cn'),\n",
    "         ('Referer', 'https://passport.weibo.cn/signin/login?entry=mweibo&res=wel&wm=3349&r=http%3A%2F%2Fm.weibo.cn%2F'),\n",
    "         ('User-Agent','Mozilla/6.0')]\n",
    "opener.addheaders=headers\n",
    "response = opener.open('https://passport.weibo.cn/sso/login',login_data.encode('utf-8'))\n",
    "#print(response.read().decode(encoding='UTF-8'))\n",
    "for item in cookie:\n",
    "    print('%s:%s'%(item.name,item.value))\n",
    "\n",
    "for k,v in response.getheaders():\n",
    "       print('%s: %s' % (k, v))\n",
    "print('Data:', response.read().decode('utf-8'))\n",
    "\n",
    "cookie.save(ignore_discard = True,ignore_expires = True)"
   ]
  },
  {
   "cell_type": "code",
   "execution_count": null,
   "metadata": {},
   "outputs": [],
   "source": []
  }
 ],
 "metadata": {
  "kernelspec": {
   "display_name": "Python 3",
   "language": "python",
   "name": "python3"
  },
  "language_info": {
   "codemirror_mode": {
    "name": "ipython",
    "version": 3
   },
   "file_extension": ".py",
   "mimetype": "text/x-python",
   "name": "python",
   "nbconvert_exporter": "python",
   "pygments_lexer": "ipython3",
   "version": "3.6.4"
  }
 },
 "nbformat": 4,
 "nbformat_minor": 2
}
