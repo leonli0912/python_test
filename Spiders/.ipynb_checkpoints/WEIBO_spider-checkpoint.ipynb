{
 "cells": [
  {
   "cell_type": "code",
   "execution_count": null,
   "metadata": {},
   "outputs": [],
   "source": [
    "from urllib import request,parse \n",
    "import http.cookiejar \n",
    "\n",
    "#cookie = http.cookiejar.CookieJar()\n",
    "###save cookie to file\n",
    "filename = 'mweibocookie.txt'\n",
    "cookie = http.cookiejar.MozillaCookieJar(filename)\n",
    "###\n",
    "cookieHandler = request.HTTPCookieProcessor(cookie)\n",
    "opener = request.build_opener(cookieHandler)#BUILD_OPNER 可以添加多个handler\n",
    "print('Login to weibo.cn...')\n",
    "#email = input('Email: ')\n",
    "#passwd = input('Password: ')\n",
    "login_data = parse.urlencode([\n",
    "    ('username', 'ly95487532'),\n",
    "    ('password', 'LEON880912'),\n",
    "    ('entry', 'weibo'),\n",
    "    ('client_id', ''),\n",
    "    ('savestate', '1'),\n",
    "    ('ec', ''),\n",
    "    ('pagerefer', 'https://passport.weibo.cn/signin/welcome?entry=mweibo&r=http%3A%2F%2Fm.weibo.cn%2F')\n",
    "])\n",
    "headers=[('Origin', 'https://passport.weibo.cn'),\n",
    "         ('Referer', 'https://passport.weibo.cn/signin/login?entry=mweibo&res=wel&wm=3349&r=http%3A%2F%2Fm.weibo.cn%2F'),\n",
    "         ('User-Agent','Mozilla/6.0')]\n",
    "opener.addheaders=headers\n",
    "response = opener.open('https://passport.weibo.cn/sso/login',login_data.encode('utf-8'))\n",
    "#print(response.read().decode(encoding='UTF-8'))\n",
    "for item in cookie:\n",
    "    print('%s:%s'%(item.name,item.value))\n",
    "\n",
    "for k,v in response.getheaders():\n",
    "       print('%s: %s' % (k, v))\n",
    "print('Data:', response.read().decode('utf-8'))\n",
    "\n",
    "cookie.save(ignore_discard = True,ignore_expires = True)\n"
   ]
  },
  {
   "cell_type": "code",
   "execution_count": null,
   "metadata": {},
   "outputs": [],
   "source": [
    "import http.cookiejar, urllib.request\n",
    "cj = http.cookiejar.MozillaCookieJar()\n",
    "cj.load('mweibocookie.txt')\n",
    "opener = urllib.request.build_opener(urllib.request.HTTPCookieProcessor(cj))\n",
    "req = urllib.request.Request('http://m.weibo.cn')\n",
    "req.add_header('User-Agent','Mozilla/6.0')\n",
    "r = opener.open(req)\n",
    "print(r.read().decode('UTF-8'))"
   ]
  },
  {
   "cell_type": "code",
   "execution_count": null,
   "metadata": {},
   "outputs": [],
   "source": [
    "import http.cookiejar, urllib.request\n",
    "cj = http.cookiejar.MozillaCookieJar()\n",
    "cj.load('mweibocookie.txt') \n",
    "opener = urllib.request.build_opener(urllib.request.HTTPCookieProcessor(cj))\n",
    "formdata = [('uid','3512767281'),\n",
    "            ('st','406bbf')]\n",
    "req = urllib.request.Request('http://m.weibo.cn/api/friendships/create',parse.urlencode(formdata).encode())\n",
    "req.add_header('User-Agent','Mozilla/6.0')\n",
    "\n",
    "\n",
    "#target_URL = 'https://weibo.com/aj/f/followed?ajwvr=6&__rnd=1523196358871'\n",
    "#try:\n",
    "response = opener.open(req)\n",
    "#except urllib.error.URLError as e:\n",
    "#    print(e.reseaon)\n",
    "print(response.read().decode('gb2312'))"
   ]
  },
  {
   "cell_type": "code",
   "execution_count": null,
   "metadata": {},
   "outputs": [],
   "source": [
    "from urllib import request,parse \n",
    "import http.cookiejar \n",
    "#pc weibo\n",
    "#\n",
    "preloginURL='http://login.sina.com.cn/sso/prelogin.php?entry=sso&callback=sinaSSOController.preloginCallBack&su=%s&rsakt=mod&client=ssologin.js(v1.4.19)'\n",
    "loginURL='https://login.sina.com.cn/sso/login.php'\n",
    "###save cookie to file\n",
    "filename = 'weibocookie.txt'\n",
    "cookie = http.cookiejar.MozillaCookieJar(filename)\n",
    "###\n",
    "cookieHandler = urllib.request.HTTPCookieProcessor(cookie)\n",
    "opener = urllib.request.build_opener(cookieHandler)#BUILD_OPNER 可以添加多个handler\n",
    "print('Login to weibo.cn...')\n",
    "login_data = parse.urlencode([\n",
    "    ('su','bHk5NTQ4NzUzMg=='),# 'ly95487532'),\n",
    "    ('sp', ''),\n",
    "    ('pwencode','rsa2')\n",
    "    ('entry', 'weibo'),\n",
    "    ('client_id', ''),\n",
    "    ('savestate', '7'),\n",
    "    ('rsakv',''),\n",
    "    ('nonce',''),\n",
    "    ('servertime',''),\n",
    "    ('ec', ''),\n",
    "    ('pagerefer', 'ttps://passport.weibo.com/visitor/visitor?entry=miniblog&a=enter&url=https%3A%2F%2Fweibo.com%2Fu%2F1278353893%2Fhome&domain=.weibo.com&ua=php-sso_sdk_client-0.6.23&_rand=1523201619.6983')\n",
    "])"
   ]
  },
  {
   "cell_type": "code",
   "execution_count": null,
   "metadata": {},
   "outputs": [],
   "source": []
  },
  {
   "cell_type": "code",
   "execution_count": null,
   "metadata": {},
   "outputs": [],
   "source": []
  }
 ],
 "metadata": {
  "kernelspec": {
   "display_name": "Python 3",
   "language": "python",
   "name": "python3"
  },
  "language_info": {
   "codemirror_mode": {
    "name": "ipython",
    "version": 3
   },
   "file_extension": ".py",
   "mimetype": "text/x-python",
   "name": "python",
   "nbconvert_exporter": "python",
   "pygments_lexer": "ipython3",
   "version": "3.6.4"
  }
 },
 "nbformat": 4,
 "nbformat_minor": 2
}
