{
 "cells": [
  {
   "cell_type": "code",
   "execution_count": 2,
   "metadata": {},
   "outputs": [
    {
     "name": "stdout",
     "output_type": "stream",
     "text": [
      "Login to weibo.cn...\n",
      "SSOLoginState:1523892405\n",
      "SUB:_2A2530LDlDeRhGedM7FoS9S3Ewj-IHXVVOtCtrDV6PUJbkdAKLXf-kW1NWDnpMzoOVA43hMSj6GWu35PBs5toWguR\n",
      "SUHB:0z1xf19XzK3doX\n",
      "login:16999bd39c16867be9b835ce43bc6354\n",
      "Server: nginx/1.6.1\n",
      "Date: Mon, 16 Apr 2018 15:26:45 GMT\n",
      "Content-Type: text/html\n",
      "Transfer-Encoding: chunked\n",
      "Connection: close\n",
      "Vary: Accept-Encoding\n",
      "Cache-Control: no-cache, must-revalidate\n",
      "Expires: Sat, 26 Jul 1997 05:00:00 GMT\n",
      "Pragma: no-cache\n",
      "Access-Control-Allow-Origin: https://passport.weibo.cn\n",
      "Access-Control-Allow-Credentials: true\n",
      "Set-Cookie: SUB=_2A2530LDlDeRhGedM7FoS9S3Ewj-IHXVVOtCtrDV6PUJbkdAKLXf-kW1NWDnpMzoOVA43hMSj6GWu35PBs5toWguR; Path=/; Domain=.weibo.cn; Expires=Tue, 16 Apr 2019 15:26:45 GMT; HttpOnly\n",
      "Set-Cookie: SUHB=0z1xf19XzK3doX; expires=Tuesday, 16-Apr-2019 15:26:45 GMT; path=/; domain=.weibo.cn\n",
      "Set-Cookie: SSOLoginState=1523892405; path=/; domain=weibo.cn\n",
      "Set-Cookie: ALF=1526484405; expires=Wednesday, 16-May-2018 15:26:45 GMT; path=/; domain=.sina.cn\n",
      "DPOOL_HEADER: 85-144-119-aliyun-core.jpool.sinaimg.cn\n",
      "Set-Cookie: login=16999bd39c16867be9b835ce43bc6354; Path=/\n",
      "Data: {\"retcode\":20000000,\"msg\":\"\",\"data\":{\"crossdomainlist\":{\"weibo.com\":\"https:\\/\\/passport.weibo.com\\/sso\\/crossdomain?entry=weibo&action=login&proj=1&ticket=ST-MTI3ODM1Mzg5Mw%3D%3D-1523892405-tc-EE2C99A6D06A5EF7D6226B7261A2FA7B-1\",\"sina.com.cn\":\"https:\\/\\/login.sina.com.cn\\/sso\\/crossdomain?entry=weibo&action=login&proj=1&ticket=ST-MTI3ODM1Mzg5Mw%3D%3D-1523892405-tc-DEB6ACAB6A9EEA7568E9FE36C2DF3A22-1\"},\"loginresulturl\":\"https:\\/\\/passport.weibo.cn\\/sso\\/crossdomain?entry=weibo&action=login&ticket=ST-MTI3ODM1Mzg5Mw%3D%3D-1523892405-tc-FA6C74240B5CE748E0817CB3E257BAD2-1\",\"uid\":\"1278353893\"}}\n"
     ]
    }
   ],
   "source": [
    "from urllib import request,parse \n",
    "import http.cookiejar \n",
    "\n",
    "#cookie = http.cookiejar.CookieJar()\n",
    "###save cookie to file\n",
    "filename = 'mweibocookie.txt'\n",
    "cookie = http.cookiejar.MozillaCookieJar(filename)\n",
    "###\n",
    "cookieHandler = request.HTTPCookieProcessor(cookie)\n",
    "opener = request.build_opener(cookieHandler)#BUILD_OPNER 可以添加多个handler\n",
    "print('Login to weibo.cn...')\n",
    "#email = input('Email: ')\n",
    "#passwd = input('Password: ')\n",
    "login_data = parse.urlencode([\n",
    "    ('username', 'ly95487532'),\n",
    "    ('password', 'LEON880912'),\n",
    "    ('entry', 'weibo'),\n",
    "    ('client_id', ''),\n",
    "    ('savestate', '1'),\n",
    "    ('ec', ''),\n",
    "    ('pagerefer', 'https://passport.weibo.cn/signin/welcome?entry=mweibo&r=http%3A%2F%2Fm.weibo.cn%2F')\n",
    "])\n",
    "headers=[('Origin', 'https://passport.weibo.cn'),\n",
    "         ('Referer', 'https://passport.weibo.cn/signin/login?entry=mweibo&res=wel&wm=3349&r=http%3A%2F%2Fm.weibo.cn%2F'),\n",
    "         ('User-Agent','Mozilla/6.0')]\n",
    "opener.addheaders=headers\n",
    "response = opener.open('https://passport.weibo.cn/sso/login',login_data.encode('utf-8'))\n",
    "#print(response.read().decode(encoding='UTF-8'))\n",
    "for item in cookie:\n",
    "    print('%s:%s'%(item.name,item.value))\n",
    "\n",
    "for k,v in response.getheaders():\n",
    "       print('%s: %s' % (k, v))\n",
    "print('Data:', response.read().decode('utf-8'))\n",
    "\n",
    "cookie.save(ignore_discard = True,ignore_expires = True)\n"
   ]
  },
  {
   "cell_type": "code",
   "execution_count": null,
   "metadata": {},
   "outputs": [],
   "source": [
    "import http.cookiejar, urllib.request\n",
    "cj = http.cookiejar.MozillaCookieJar()\n",
    "cj.load('mweibocookie.txt')\n",
    "opener = urllib.request.build_opener(urllib.request.HTTPCookieProcessor(cj))\n",
    "req = urllib.request.Request('http://m.weibo.cn')\n",
    "req.add_header('User-Agent','Mozilla/6.0')\n",
    "r = opener.open(req)\n",
    "print(r.read().decode('UTF-8'))"
   ]
  },
  {
   "cell_type": "code",
   "execution_count": null,
   "metadata": {},
   "outputs": [],
   "source": [
    "import http.cookiejar, urllib.request\n",
    "cj = http.cookiejar.MozillaCookieJar()\n",
    "cj.load('mweibocookie.txt') \n",
    "opener = urllib.request.build_opener(urllib.request.HTTPCookieProcessor(cj))\n",
    "formdata = [('uid','3512767281'),\n",
    "            ('st','406bbf')]\n",
    "req = urllib.request.Request('http://m.weibo.cn/api/friendships/create',parse.urlencode(formdata).encode())\n",
    "req.add_header('User-Agent','Mozilla/6.0')\n",
    "\n",
    "\n",
    "#target_URL = 'https://weibo.com/aj/f/followed?ajwvr=6&__rnd=1523196358871'\n",
    "#try:\n",
    "response = opener.open(req)\n",
    "#except urllib.error.URLError as e:\n",
    "#    print(e.reseaon)\n",
    "print(response.read().decode('gb2312'))"
   ]
  },
  {
   "cell_type": "code",
   "execution_count": null,
   "metadata": {},
   "outputs": [],
   "source": [
    "from urllib import request,parse \n",
    "import http.cookiejar \n",
    "#pc weibo\n",
    "#\n",
    "preloginURL='http://login.sina.com.cn/sso/prelogin.php?entry=sso&callback=sinaSSOController.preloginCallBack&su=%s&rsakt=mod&client=ssologin.js(v1.4.19)'\n",
    "loginURL='https://login.sina.com.cn/sso/login.php'\n",
    "###save cookie to file\n",
    "filename = 'weibocookie.txt'\n",
    "cookie = http.cookiejar.MozillaCookieJar(filename)\n",
    "###\n",
    "cookieHandler = urllib.request.HTTPCookieProcessor(cookie)\n",
    "opener = urllib.request.build_opener(cookieHandler)#BUILD_OPNER 可以添加多个handler\n",
    "print('Login to weibo.cn...')\n",
    "login_data = parse.urlencode([\n",
    "    ('su','bHk5NTQ4NzUzMg=='),# 'ly95487532'),\n",
    "    ('sp', ''),\n",
    "    ('pwencode','rsa2')\n",
    "    ('entry', 'weibo'),\n",
    "    ('client_id', ''),\n",
    "    ('savestate', '7'),\n",
    "    ('rsakv',''),\n",
    "    ('nonce',''),\n",
    "    ('servertime',''),\n",
    "    ('ec', ''),\n",
    "    ('pagerefer', 'ttps://passport.weibo.com/visitor/visitor?entry=miniblog&a=enter&url=https%3A%2F%2Fweibo.com%2Fu%2F1278353893%2Fhome&domain=.weibo.com&ua=php-sso_sdk_client-0.6.23&_rand=1523201619.6983')\n",
    "])"
   ]
  },
  {
   "cell_type": "code",
   "execution_count": null,
   "metadata": {},
   "outputs": [],
   "source": []
  },
  {
   "cell_type": "code",
   "execution_count": null,
   "metadata": {},
   "outputs": [],
   "source": []
  }
 ],
 "metadata": {
  "kernelspec": {
   "display_name": "Python 3",
   "language": "python",
   "name": "python3"
  },
  "language_info": {
   "codemirror_mode": {
    "name": "ipython",
    "version": 3
   },
   "file_extension": ".py",
   "mimetype": "text/x-python",
   "name": "python",
   "nbconvert_exporter": "python",
   "pygments_lexer": "ipython3",
   "version": "3.6.4"
  }
 },
 "nbformat": 4,
 "nbformat_minor": 2
}
