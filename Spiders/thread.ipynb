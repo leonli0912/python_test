{
 "cells": [
  {
   "cell_type": "code",
   "execution_count": 12,
   "metadata": {},
   "outputs": [
    {
     "name": "stdout",
     "output_type": "stream",
     "text": [
      "processing: 0\n",
      "processing: 1\n",
      "processing:[<MyThread(Thread-16, started 4435976192)>, <MyThread(Thread-17, started 4441231360)>, <MyThread(Thread-18, started 4446486528)>]\n",
      " 2\n",
      "processing:processing: 3\n",
      " 4\n"
     ]
    }
   ],
   "source": [
    "from queue import Queue\n",
    "import time\n",
    "import threading\n",
    "\n",
    "SHARE_Q = Queue()\n",
    "_WORKER_THREAD_NUM = 3\n",
    "\n",
    "class MyThread(threading.Thread):\n",
    "    def __init__(self,func):\n",
    "        super(MyThread,self).__init__()\n",
    "        self.func = func\n",
    "    \n",
    "    def run(self):\n",
    "        self.func()\n",
    "#thread's function \n",
    "def worker():\n",
    "    global SHARE_Q\n",
    "    while not SHARE_Q.empty():\n",
    "        item = SHARE_Q.get()\n",
    "        print('processing:', item)\n",
    "        time.sleep(1)\n",
    "        \n",
    "def main():\n",
    "    global SHARE_Q\n",
    "    threads = []\n",
    "    for task in range(5):\n",
    "        SHARE_Q.put(task)\n",
    "    for i in range(_WORKER_THREAD_NUM):\n",
    "        thread = MyThread(worker)\n",
    "        thread.start()\n",
    "        threads.append(thread)\n",
    "    print(threads)\n",
    "    for thread in threads:\n",
    "        thread.join()\n",
    "\n",
    "if __name__ == '__main__':\n",
    "    main()"
   ]
  },
  {
   "cell_type": "code",
   "execution_count": null,
   "metadata": {},
   "outputs": [],
   "source": []
  }
 ],
 "metadata": {
  "kernelspec": {
   "display_name": "Python 3",
   "language": "python",
   "name": "python3"
  },
  "language_info": {
   "codemirror_mode": {
    "name": "ipython",
    "version": 3
   },
   "file_extension": ".py",
   "mimetype": "text/x-python",
   "name": "python",
   "nbconvert_exporter": "python",
   "pygments_lexer": "ipython3",
   "version": "3.6.4"
  }
 },
 "nbformat": 4,
 "nbformat_minor": 2
}
